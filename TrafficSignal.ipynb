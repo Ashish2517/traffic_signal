{
 "cells": [
  {
   "cell_type": "code",
   "execution_count": 1,
   "metadata": {},
   "outputs": [
    {
     "name": "stdout",
     "output_type": "stream",
     "text": [
      "b lue\n"
     ]
    }
   ],
   "source": [
    "traffic_colour = input(\"traffic light\")\n",
    "print(traffic_colour)"
   ]
  },
  {
   "cell_type": "code",
   "execution_count": 2,
   "metadata": {},
   "outputs": [
    {
     "name": "stdout",
     "output_type": "stream",
     "text": [
      "light is broken\n"
     ]
    }
   ],
   "source": [
    "if(traffic_colour == \"red\"):\n",
    "    print(\"stop\")\n",
    "\n",
    "elif(traffic_colour == \"green\"):\n",
    "    print(\"Go\")\n",
    "\n",
    "elif(traffic_colour == \"yellow\"):\n",
    "    print(\"Look\")\n",
    "\n",
    "else:\n",
    "    print(\"light is broken\")"
   ]
  },
  {
   "cell_type": "code",
   "execution_count": 3,
   "metadata": {},
   "outputs": [
    {
     "name": "stdout",
     "output_type": "stream",
     "text": [
      "your grade is D\n"
     ]
    }
   ],
   "source": [
    "marks = int(input(\"enter your marks : \"))\n",
    "if(marks>90):\n",
    "    print(\"your grade is A.\")\n",
    "\n",
    "elif(marks>=80 and marks<90):\n",
    "    print(\"your grade is B.\")\n",
    "\n",
    "elif(marks>=70 and marks<80):\n",
    "    print(\"your grade is C.\")\n",
    "\n",
    "else:\n",
    "    print(\"your grade is D\")"
   ]
  },
  {
   "cell_type": "code",
   "execution_count": 4,
   "metadata": {},
   "outputs": [
    {
     "name": "stdout",
     "output_type": "stream",
     "text": [
      "ashish\n"
     ]
    }
   ],
   "source": [
    "print(input(\"name :\"))"
   ]
  },
  {
   "cell_type": "code",
   "execution_count": 5,
   "metadata": {},
   "outputs": [
    {
     "name": "stdout",
     "output_type": "stream",
     "text": [
      "21\n",
      "17\n",
      "38\n",
      "9.5\n",
      "1\n",
      "361\n"
     ]
    }
   ],
   "source": [
    "#arithmetic operators\n",
    "a=19\n",
    "b=2\n",
    "\n",
    "print(a+b)\n",
    "print(a-b)\n",
    "print(a*b)\n",
    "print(a/b)\n",
    "print(a%b) # remainder\n",
    "print(a**b) # a to the power b"
   ]
  },
  {
   "cell_type": "code",
   "execution_count": 6,
   "metadata": {},
   "outputs": [
    {
     "name": "stdout",
     "output_type": "stream",
     "text": [
      "False\n",
      "True\n",
      "True\n",
      "False\n",
      "False\n",
      "True\n"
     ]
    }
   ],
   "source": [
    "#relational/ comparison operator\n",
    "a = 50\n",
    "b= 20\n",
    "\n",
    "print(a==b)\n",
    "print(a!=b)\n",
    "print(a>=b)\n",
    "print(a<=b)\n",
    "print(a<b)\n",
    "print(a>b)"
   ]
  },
  {
   "cell_type": "code",
   "execution_count": 7,
   "metadata": {},
   "outputs": [
    {
     "name": "stdout",
     "output_type": "stream",
     "text": [
      "num : 30\n",
      "num : 60\n",
      "120\n",
      "0\n",
      "90\n",
      "50\n",
      "2500\n",
      "0\n",
      "0\n",
      "200\n",
      "100.0\n",
      "1.0\n"
     ]
    }
   ],
   "source": [
    "# assignment operators\n",
    "num = 20\n",
    "num=num+10\n",
    "print(\"num :\", num)\n",
    "\n",
    "num = num+num\n",
    "print(\"num :\", num)\n",
    "\n",
    "num += num\n",
    "print(num)\n",
    "\n",
    "num -= num\n",
    "print(num)\n",
    "\n",
    "num+=90\n",
    "print(num)\n",
    "\n",
    "num-=40\n",
    "print(num)\n",
    "\n",
    "num*= num\n",
    "print(num)\n",
    "\n",
    "num*= 0\n",
    "print(num)\n",
    "\n",
    "num*= 0\n",
    "print(num)\n",
    "\n",
    "num += 200\n",
    "print(num)\n",
    "\n",
    "num/= 2\n",
    "print(num)\n",
    "\n",
    "num%= 3\n",
    "print(num)\n",
    "\n",
    "\n"
   ]
  },
  {
   "cell_type": "code",
   "execution_count": null,
   "metadata": {},
   "outputs": [],
   "source": []
  },
  {
   "cell_type": "code",
   "execution_count": null,
   "metadata": {},
   "outputs": [],
   "source": []
  }
 ],
 "metadata": {
  "kernelspec": {
   "display_name": "base",
   "language": "python",
   "name": "python3"
  },
  "language_info": {
   "codemirror_mode": {
    "name": "ipython",
    "version": 3
   },
   "file_extension": ".py",
   "mimetype": "text/x-python",
   "name": "python",
   "nbconvert_exporter": "python",
   "pygments_lexer": "ipython3",
   "version": "3.11.5"
  }
 },
 "nbformat": 4,
 "nbformat_minor": 2
}
